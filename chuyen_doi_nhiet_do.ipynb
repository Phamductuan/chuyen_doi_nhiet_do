{
 "cells": [
  {
   "cell_type": "code",
   "execution_count": 13,
   "id": "ed9962d3",
   "metadata": {},
   "outputs": [
    {
     "name": "stdout",
     "output_type": "stream",
     "text": [
      " Nhap do C: \n",
      "34\n",
      "34.0C tương đương 93.2F\n"
     ]
    }
   ],
   "source": [
    "import math\n",
    "print(\" Nhap do C: \")\n",
    "C = float(input())\n",
    "F = (9*C/5) +32 \n",
    "F = str(F) \n",
    "C= str(C)\n",
    "print(C+\"C\", \"tương đương\",F+\"F\")"
   ]
  }
 ],
 "metadata": {
  "kernelspec": {
   "display_name": "Python 3 (ipykernel)",
   "language": "python",
   "name": "python3"
  },
  "language_info": {
   "codemirror_mode": {
    "name": "ipython",
    "version": 3
   },
   "file_extension": ".py",
   "mimetype": "text/x-python",
   "name": "python",
   "nbconvert_exporter": "python",
   "pygments_lexer": "ipython3",
   "version": "3.9.6"
  }
 },
 "nbformat": 4,
 "nbformat_minor": 5
}
